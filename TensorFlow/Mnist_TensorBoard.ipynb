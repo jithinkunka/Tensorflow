{
 "cells": [
  {
   "cell_type": "code",
   "execution_count": 1,
   "metadata": {},
   "outputs": [],
   "source": [
    "import warnings\n",
    "warnings.filterwarnings('ignore')\n",
    "\n",
    "import tensorflow as tf\n",
    "from tensorflow.examples.tutorials.mnist import input_data"
   ]
  },
  {
   "cell_type": "code",
   "execution_count": 2,
   "metadata": {},
   "outputs": [],
   "source": [
    "# Define path to TensorBoard log files\n",
    "logPath = \"./tb_logs/\""
   ]
  },
  {
   "cell_type": "code",
   "execution_count": 3,
   "metadata": {},
   "outputs": [],
   "source": [
    "#   Adds summaries statistics for use in TensorBoard visualization.  \n",
    "#      From https://www.tensorflow.org/get_started/summaries_and_tensorboard\n",
    "def variable_summaries(var):\n",
    "   with tf.name_scope('summaries'):\n",
    "    mean = tf.reduce_mean(var)\n",
    "    tf.summary.scalar('mean', mean)\n",
    "    with tf.name_scope('stddev'):\n",
    "      stddev = tf.sqrt(tf.reduce_mean(tf.square(var - mean)))\n",
    "    tf.summary.scalar('stddev', stddev)\n",
    "    tf.summary.scalar('max', tf.reduce_max(var))\n",
    "    tf.summary.scalar('min', tf.reduce_min(var))\n",
    "    tf.summary.histogram('histogram', var)"
   ]
  },
  {
   "cell_type": "code",
   "execution_count": 4,
   "metadata": {},
   "outputs": [
    {
     "name": "stdout",
     "output_type": "stream",
     "text": [
      "WARNING:tensorflow:From <ipython-input-4-a839aeb82f4b>:1: read_data_sets (from tensorflow.contrib.learn.python.learn.datasets.mnist) is deprecated and will be removed in a future version.\n",
      "Instructions for updating:\n",
      "Please use alternatives such as official/mnist/dataset.py from tensorflow/models.\n",
      "WARNING:tensorflow:From C:\\Users\\jkunka\\AppData\\Local\\Continuum\\anaconda3\\lib\\site-packages\\tensorflow\\contrib\\learn\\python\\learn\\datasets\\mnist.py:260: maybe_download (from tensorflow.contrib.learn.python.learn.datasets.base) is deprecated and will be removed in a future version.\n",
      "Instructions for updating:\n",
      "Please write your own downloading logic.\n",
      "WARNING:tensorflow:From C:\\Users\\jkunka\\AppData\\Local\\Continuum\\anaconda3\\lib\\site-packages\\tensorflow\\contrib\\learn\\python\\learn\\datasets\\mnist.py:262: extract_images (from tensorflow.contrib.learn.python.learn.datasets.mnist) is deprecated and will be removed in a future version.\n",
      "Instructions for updating:\n",
      "Please use tf.data to implement this functionality.\n",
      "Extracting MNIST_data/train-images-idx3-ubyte.gz\n",
      "WARNING:tensorflow:From C:\\Users\\jkunka\\AppData\\Local\\Continuum\\anaconda3\\lib\\site-packages\\tensorflow\\contrib\\learn\\python\\learn\\datasets\\mnist.py:267: extract_labels (from tensorflow.contrib.learn.python.learn.datasets.mnist) is deprecated and will be removed in a future version.\n",
      "Instructions for updating:\n",
      "Please use tf.data to implement this functionality.\n",
      "Extracting MNIST_data/train-labels-idx1-ubyte.gz\n",
      "WARNING:tensorflow:From C:\\Users\\jkunka\\AppData\\Local\\Continuum\\anaconda3\\lib\\site-packages\\tensorflow\\contrib\\learn\\python\\learn\\datasets\\mnist.py:110: dense_to_one_hot (from tensorflow.contrib.learn.python.learn.datasets.mnist) is deprecated and will be removed in a future version.\n",
      "Instructions for updating:\n",
      "Please use tf.one_hot on tensors.\n",
      "Extracting MNIST_data/t10k-images-idx3-ubyte.gz\n",
      "Extracting MNIST_data/t10k-labels-idx1-ubyte.gz\n",
      "WARNING:tensorflow:From C:\\Users\\jkunka\\AppData\\Local\\Continuum\\anaconda3\\lib\\site-packages\\tensorflow\\contrib\\learn\\python\\learn\\datasets\\mnist.py:290: DataSet.__init__ (from tensorflow.contrib.learn.python.learn.datasets.mnist) is deprecated and will be removed in a future version.\n",
      "Instructions for updating:\n",
      "Please use alternatives such as official/mnist/dataset.py from tensorflow/models.\n"
     ]
    }
   ],
   "source": [
    "mnist = input_data.read_data_sets(\"MNIST_data/\", one_hot=True)"
   ]
  },
  {
   "cell_type": "code",
   "execution_count": 5,
   "metadata": {},
   "outputs": [],
   "source": [
    "# Using Interactive session makes it the default sessions so we do not need to pass sess \n",
    "sess = tf.InteractiveSession()"
   ]
  },
  {
   "cell_type": "code",
   "execution_count": 6,
   "metadata": {},
   "outputs": [],
   "source": [
    "# Define placeholders for MNIST input data\n",
    "with tf.name_scope(\"MNIST_Input\"):\n",
    "    x = tf.placeholder(tf.float32, shape=[None, 784], name=\"x\")\n",
    "    y_ = tf.placeholder(tf.float32, [None, 10], name=\"y_\") "
   ]
  },
  {
   "cell_type": "code",
   "execution_count": 7,
   "metadata": {},
   "outputs": [],
   "source": [
    "# change the MNIST input data from a list of values to a 28 pixel X 28 pixel X 1 grayscale value cube\n",
    "#    which the Convolution NN can use.\n",
    "with tf.name_scope(\"Input_Reshape\"):\n",
    "    x_image = tf.reshape(x, [-1,28,28,1], name=\"x_image\")\n",
    "    tf.summary.image('input_img', x_image, 5)"
   ]
  },
  {
   "cell_type": "code",
   "execution_count": 8,
   "metadata": {},
   "outputs": [],
   "source": [
    "# We are using RELU as our activation function.  These must be initialized to a small positive number \n",
    "# and with some noise so you don't end up going to zero when comparing diffs\n",
    "def weight_variable(shape, name=None):\n",
    "    initial = tf.truncated_normal(shape, stddev=0.1)\n",
    "    return tf.Variable(initial, name=name)"
   ]
  },
  {
   "cell_type": "code",
   "execution_count": 9,
   "metadata": {},
   "outputs": [],
   "source": [
    "def bias_variable(shape, name=None):\n",
    "    initial = tf.constant(0.1, shape=shape)\n",
    "    return tf.Variable(initial, name=name)\n"
   ]
  },
  {
   "cell_type": "code",
   "execution_count": 10,
   "metadata": {},
   "outputs": [],
   "source": [
    "# Convelution and Pooling - we do Convelution, and then pooling to control overfitting\n",
    "def conv2d(x, W, name=None):\n",
    "    return tf.nn.conv2d(x, W, strides=[1, 1, 1, 1], padding='SAME',name=name)\n",
    "def max_pool_2x2(x, name=None):\n",
    "    return tf.nn.max_pool(x, ksize=[1, 2, 2, 1],\n",
    "                        strides=[1, 2, 2, 1], padding='SAME', name=name)"
   ]
  },
  {
   "cell_type": "code",
   "execution_count": 11,
   "metadata": {},
   "outputs": [],
   "source": [
    "# Define the Model\n",
    "\n",
    "# 1st Convolution layer\n",
    "with tf.name_scope('Conv1'):\n",
    "    # 32 features for each 5X5 patch of the image\n",
    "    with tf.name_scope('weights'):\n",
    "        W_conv1 = weight_variable([5, 5, 1, 32], name=\"weight\")\n",
    "        variable_summaries(W_conv1)\n",
    "    with tf.name_scope('biases'):\n",
    "        b_conv1 = bias_variable([32], name=\"bias\")\n",
    "        variable_summaries(b_conv1)\n",
    "    # Do convolution on images, add bias and push through RELU activation\n",
    "    conv1_wx_b = conv2d(x_image, W_conv1,name=\"conv2d\") + b_conv1\n",
    "    tf.summary.histogram('conv1_wx_b', conv1_wx_b)\n",
    "    h_conv1 = tf.nn.relu(conv1_wx_b, name=\"relu\")\n",
    "    tf.summary.histogram('h_conv1', h_conv1)\n",
    "    # take results and run through max_pool\n",
    "    h_pool1 = max_pool_2x2(h_conv1, name=\"pool\")"
   ]
  },
  {
   "cell_type": "code",
   "execution_count": 12,
   "metadata": {},
   "outputs": [],
   "source": [
    "# 2nd Convolution layer\n",
    "with tf.name_scope('Conv2'):\n",
    "# Process the 32 features from Convolution layer 1, in 5 X 5 patch.  return 64 features weights and biases\n",
    "    with tf.name_scope('weights'):\n",
    "        W_conv2 = weight_variable([5, 5, 32, 64], name=\"weight\")\n",
    "        variable_summaries(W_conv2)\n",
    "    with tf.name_scope('biases'):\n",
    "        b_conv2 = bias_variable([64], name=\"bias\")\n",
    "        variable_summaries(b_conv2)\n",
    "    # Do convolution of the output of the 1st convolution layer.  Pool results \n",
    "    conv2_wx_b = conv2d(h_pool1, W_conv2, name=\"conv2d\") + b_conv2\n",
    "    tf.summary.histogram('conv2_wx_b', conv2_wx_b)\n",
    "    h_conv2 = tf.nn.relu(conv2_wx_b, name=\"relu\")\n",
    "    tf.summary.histogram('h_conv2', h_conv2)\n",
    "    h_pool2 = max_pool_2x2(h_conv2, name=\"pool\")"
   ]
  },
  {
   "cell_type": "code",
   "execution_count": 13,
   "metadata": {},
   "outputs": [],
   "source": [
    "with tf.name_scope('FC'):\n",
    "    # Fully Connected Layer\n",
    "    W_fc1 = weight_variable([7 * 7 * 64, 1024], name=\"weight\")\n",
    "    b_fc1 = bias_variable([1024], name=\"bias\")\n",
    "    #   Connect output of pooling layer 2 as input to full connected layer\n",
    "    h_pool2_flat = tf.reshape(h_pool2, [-1, 7*7*64])\n",
    "    h_fc1 = tf.nn.relu(tf.matmul(h_pool2_flat, W_fc1) + b_fc1, name=\"relu\")"
   ]
  },
  {
   "cell_type": "code",
   "execution_count": 14,
   "metadata": {},
   "outputs": [],
   "source": [
    "# dropout some neurons to reduce overfitting\n",
    "keep_prob = tf.placeholder(tf.float32, name=\"keep_prob\")  # get dropout probability as a training input.\n",
    "h_fc1_drop = tf.nn.dropout(h_fc1, keep_prob)"
   ]
  },
  {
   "cell_type": "code",
   "execution_count": 15,
   "metadata": {},
   "outputs": [],
   "source": [
    "with tf.name_scope(\"Readout\"):\n",
    "# Readout layer\n",
    "    W_fc2 = weight_variable([1024, 10], name=\"weight\")\n",
    "    b_fc2 = bias_variable([10], name=\"bias\")\n",
    "\n",
    "# Define model\n",
    "y_conv = tf.matmul(h_fc1_drop, W_fc2) + b_fc2"
   ]
  },
  {
   "cell_type": "code",
   "execution_count": 16,
   "metadata": {},
   "outputs": [
    {
     "name": "stdout",
     "output_type": "stream",
     "text": [
      "WARNING:tensorflow:From <ipython-input-16-f523fd359752>:3: softmax_cross_entropy_with_logits (from tensorflow.python.ops.nn_ops) is deprecated and will be removed in a future version.\n",
      "Instructions for updating:\n",
      "\n",
      "Future major versions of TensorFlow will allow gradients to flow\n",
      "into the labels input on backprop by default.\n",
      "\n",
      "See @{tf.nn.softmax_cross_entropy_with_logits_v2}.\n",
      "\n"
     ]
    }
   ],
   "source": [
    "# Loss measurement\n",
    "with tf.name_scope(\"cross_entropy\"):\n",
    "    cross_entropy = tf.reduce_mean(tf.nn.softmax_cross_entropy_with_logits(logits=y_conv, labels=y_))\n"
   ]
  },
  {
   "cell_type": "code",
   "execution_count": 17,
   "metadata": {},
   "outputs": [],
   "source": [
    "# loss optimization\n",
    "with tf.name_scope(\"loss_optimizer\"):\n",
    "    train_step = tf.train.AdamOptimizer(1e-4).minimize(cross_entropy)"
   ]
  },
  {
   "cell_type": "code",
   "execution_count": 18,
   "metadata": {},
   "outputs": [],
   "source": [
    "with tf.name_scope(\"accuracy\"):\n",
    "    # What is correct\n",
    "    correct_prediction = tf.equal(tf.argmax(y_conv,1), tf.argmax(y_,1))\n",
    "    # How accurate is it?\n",
    "    accuracy = tf.reduce_mean(tf.cast(correct_prediction, tf.float32))"
   ]
  },
  {
   "cell_type": "code",
   "execution_count": 19,
   "metadata": {},
   "outputs": [
    {
     "data": {
      "text/plain": [
       "<tf.Tensor 'training_accuracy:0' shape=() dtype=string>"
      ]
     },
     "execution_count": 19,
     "metadata": {},
     "output_type": "execute_result"
    }
   ],
   "source": [
    "tf.summary.scalar(\"cross_entropy_scl\", cross_entropy)\n",
    "tf.summary.scalar(\"training_accuracy\", accuracy)"
   ]
  },
  {
   "cell_type": "code",
   "execution_count": 20,
   "metadata": {},
   "outputs": [],
   "source": [
    "# TB - Merge summaries \n",
    "summarize_all = tf.summary.merge_all()\n",
    "\n",
    "# Initialize all of the variables\n",
    "sess.run(tf.global_variables_initializer())\n",
    "\n",
    "# TB - Write the default graph out so we can view it's structure\n",
    "tbWriter = tf.summary.FileWriter(logPath, sess.graph)"
   ]
  },
  {
   "cell_type": "code",
   "execution_count": 21,
   "metadata": {},
   "outputs": [],
   "source": [
    "# Train the model\n",
    "import time\n",
    "\n",
    "#  define number of steps and how often we display progress\n",
    "num_steps = 2000\n",
    "display_every = 100\n"
   ]
  },
  {
   "cell_type": "code",
   "execution_count": 22,
   "metadata": {},
   "outputs": [
    {
     "name": "stdout",
     "output_type": "stream",
     "text": [
      "step 0, elapsed time 0.52 seconds, training accuracy 22.000%\n",
      "step 100, elapsed time 30.97 seconds, training accuracy 90.000%\n",
      "step 200, elapsed time 61.45 seconds, training accuracy 82.000%\n",
      "step 300, elapsed time 92.28 seconds, training accuracy 86.000%\n",
      "step 400, elapsed time 123.08 seconds, training accuracy 96.000%\n",
      "step 500, elapsed time 153.75 seconds, training accuracy 96.000%\n",
      "step 600, elapsed time 185.11 seconds, training accuracy 96.000%\n",
      "step 700, elapsed time 214.68 seconds, training accuracy 98.000%\n",
      "step 800, elapsed time 245.39 seconds, training accuracy 100.000%\n",
      "step 900, elapsed time 275.19 seconds, training accuracy 96.000%\n",
      "step 1000, elapsed time 305.10 seconds, training accuracy 100.000%\n",
      "step 1100, elapsed time 335.95 seconds, training accuracy 100.000%\n",
      "step 1200, elapsed time 367.38 seconds, training accuracy 100.000%\n",
      "step 1300, elapsed time 397.87 seconds, training accuracy 98.000%\n",
      "step 1400, elapsed time 428.29 seconds, training accuracy 98.000%\n",
      "step 1500, elapsed time 459.54 seconds, training accuracy 94.000%\n",
      "step 1600, elapsed time 490.49 seconds, training accuracy 98.000%\n",
      "step 1700, elapsed time 521.22 seconds, training accuracy 98.000%\n",
      "step 1800, elapsed time 551.32 seconds, training accuracy 98.000%\n",
      "step 1900, elapsed time 582.22 seconds, training accuracy 96.000%\n",
      "Total training time for 2000 batches: 613.68 seconds\n",
      "Test accuracy 97.660%\n"
     ]
    }
   ],
   "source": [
    "# Start timer\n",
    "start_time = time.time()\n",
    "end_time = time.time()\n",
    "for i in range(num_steps):\n",
    "    batch = mnist.train.next_batch(50)\n",
    "    _, summary = sess.run([train_step, summarize_all], feed_dict={x: batch[0], y_: batch[1], keep_prob: 0.5})\n",
    "\n",
    "\n",
    "    # Periodic status display\n",
    "    if i%display_every == 0:\n",
    "        train_accuracy = accuracy.eval(feed_dict={\n",
    "            x:batch[0], y_: batch[1], keep_prob: 1.0})\n",
    "        end_time = time.time()\n",
    "        print(\"step {0}, elapsed time {1:.2f} seconds, training accuracy {2:.3f}%\".format(i, end_time-start_time, train_accuracy*100.0))\n",
    "        # write summary to log\n",
    "        tbWriter.add_summary(summary,i)\n",
    "\n",
    "\n",
    "# Display summary \n",
    "#     Time to train\n",
    "end_time = time.time()\n",
    "print(\"Total training time for {0} batches: {1:.2f} seconds\".format(i+1, end_time-start_time))\n",
    "#     Accuracy on test data\n",
    "print(\"Test accuracy {0:.3f}%\".format(accuracy.eval(feed_dict={\n",
    "    x: mnist.test.images, y_: mnist.test.labels, keep_prob: 1.0})*100.0))"
   ]
  },
  {
   "cell_type": "code",
   "execution_count": null,
   "metadata": {},
   "outputs": [],
   "source": []
  }
 ],
 "metadata": {
  "kernelspec": {
   "display_name": "Python 3",
   "language": "python",
   "name": "python3"
  },
  "language_info": {
   "codemirror_mode": {
    "name": "ipython",
    "version": 3
   },
   "file_extension": ".py",
   "mimetype": "text/x-python",
   "name": "python",
   "nbconvert_exporter": "python",
   "pygments_lexer": "ipython3",
   "version": "3.6.4"
  }
 },
 "nbformat": 4,
 "nbformat_minor": 2
}
