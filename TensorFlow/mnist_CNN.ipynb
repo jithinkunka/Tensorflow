{
 "cells": [
  {
   "cell_type": "code",
   "execution_count": 20,
   "metadata": {},
   "outputs": [],
   "source": [
    "import warnings\n",
    "warnings.filterwarnings('ignore')\n",
    "\n",
    "import tensorflow as tf\n",
    "from tensorflow.examples.tutorials.mnist import input_data"
   ]
  },
  {
   "cell_type": "code",
   "execution_count": 21,
   "metadata": {},
   "outputs": [
    {
     "name": "stdout",
     "output_type": "stream",
     "text": [
      "Extracting MNIST_data/train-images-idx3-ubyte.gz\n",
      "Extracting MNIST_data/train-labels-idx1-ubyte.gz\n",
      "Extracting MNIST_data/t10k-images-idx3-ubyte.gz\n",
      "Extracting MNIST_data/t10k-labels-idx1-ubyte.gz\n"
     ]
    }
   ],
   "source": [
    "mnist = input_data.read_data_sets(\"MNIST_data/\",one_hot=True)"
   ]
  },
  {
   "cell_type": "code",
   "execution_count": 22,
   "metadata": {},
   "outputs": [],
   "source": [
    "sess = tf.InteractiveSession()"
   ]
  },
  {
   "cell_type": "code",
   "execution_count": 23,
   "metadata": {},
   "outputs": [],
   "source": [
    "x = tf.placeholder(tf.float32,shape=[None,784])\n",
    "y = tf.placeholder(tf.float32,shape=[None,10])"
   ]
  },
  {
   "cell_type": "code",
   "execution_count": 24,
   "metadata": {},
   "outputs": [],
   "source": [
    "x_image = tf.reshape(x,[-1,28,28,1],name=\"x_image\")"
   ]
  },
  {
   "cell_type": "code",
   "execution_count": 25,
   "metadata": {},
   "outputs": [],
   "source": [
    "def weight_variable(shape):\n",
    "    intial= tf.truncated_normal(shape,stddev=0.1)\n",
    "    return tf.Variable(intial)\n"
   ]
  },
  {
   "cell_type": "code",
   "execution_count": 26,
   "metadata": {},
   "outputs": [],
   "source": [
    "def bias_variable(shape):\n",
    "    intial = tf.constant(0.1,shape=shape)\n",
    "    return tf.Variable(intial)"
   ]
  },
  {
   "cell_type": "code",
   "execution_count": 27,
   "metadata": {},
   "outputs": [],
   "source": [
    "def conv_2d(x,W):\n",
    "    return tf.nn.conv2d(x,W,strides=[1,1,1,1],padding = \"SAME\")"
   ]
  },
  {
   "cell_type": "code",
   "execution_count": 28,
   "metadata": {},
   "outputs": [],
   "source": [
    "def max_pooling_2d(x):\n",
    "    return tf.nn.max_pool(x,strides=[1,2,2,1],ksize=[1,2,2,1],padding = \"SAME\")\n"
   ]
  },
  {
   "cell_type": "code",
   "execution_count": 29,
   "metadata": {},
   "outputs": [],
   "source": [
    "W_conv_1 = weight_variable([5,5,1,32])\n",
    "bias_conv_1 = bias_variable([32])\n",
    "\n",
    "hid_conv_1 = tf.nn.relu(conv_2d(x_image,W_conv_1)+bias_conv_1)\n",
    "hid_pool_1 = max_pooling_2d(hid_conv_1)"
   ]
  },
  {
   "cell_type": "code",
   "execution_count": 30,
   "metadata": {},
   "outputs": [],
   "source": [
    "W_conv_2 = weight_variable([5,5,32,64])\n",
    "bias_conv_2 = bias_variable([64])\n",
    "\n",
    "hid_conv_2 = tf.nn.relu(conv_2d(hid_pool_1,W_conv_2)+bias_conv_2)\n",
    "hid_pool_2 = max_pooling_2d(hid_conv_2)"
   ]
  },
  {
   "cell_type": "code",
   "execution_count": 31,
   "metadata": {},
   "outputs": [],
   "source": [
    "W_full_1 = weight_variable([7*7*64,1024])\n",
    "bias_full_1 = bias_variable([1024])\n",
    "\n",
    "h_pool_2flat = tf.reshape(hid_pool_2,[-1, 7*7*64])\n",
    "h_fc1 = tf.nn.relu(tf.matmul(h_pool_2flat,W_full_1)+bias_full_1)\n",
    "keep_probability = tf.placeholder(tf.float32)\n",
    "h_fc1_drop = tf.nn.dropout(h_fc1,keep_probability)"
   ]
  },
  {
   "cell_type": "code",
   "execution_count": 32,
   "metadata": {},
   "outputs": [],
   "source": [
    "W_fc2 = weight_variable([1024,10])\n",
    "bias_fc2 = bias_variable([10])\n",
    "\n",
    "y_conv = tf.matmul(h_fc1_drop,W_fc2)+bias_fc2"
   ]
  },
  {
   "cell_type": "code",
   "execution_count": 34,
   "metadata": {},
   "outputs": [],
   "source": [
    "cross_entropy = tf.reduce_mean(tf.nn.softmax_cross_entropy_with_logits(labels=y,logits=y_conv))\n",
    "\n",
    "optimizer = tf.train.AdamOptimizer(1e-4).minimize(cross_entropy)\n",
    "\n",
    "correct_prediction = tf.equal(tf.argmax(y_conv,1),tf.argmax(y,1))\n",
    "\n",
    "accuracy = tf.reduce_mean(tf.cast(correct_prediction,tf.float32))"
   ]
  },
  {
   "cell_type": "code",
   "execution_count": 35,
   "metadata": {},
   "outputs": [],
   "source": [
    "sess.run(tf.global_variables_initializer())"
   ]
  },
  {
   "cell_type": "code",
   "execution_count": 36,
   "metadata": {},
   "outputs": [],
   "source": [
    "import time\n",
    "\n",
    "num_steps = 1000\n",
    "display_every = 100\n",
    "\n",
    "start_time = time.time()\n",
    "end_time = time.time()"
   ]
  },
  {
   "cell_type": "code",
   "execution_count": 37,
   "metadata": {},
   "outputs": [
    {
     "name": "stdout",
     "output_type": "stream",
     "text": [
      "step 0, elapsed time 9.46 seconds, training accuracy 14.000%\n",
      "step 100, elapsed time 32.37 seconds, training accuracy 80.000%\n",
      "step 200, elapsed time 58.32 seconds, training accuracy 94.000%\n",
      "step 300, elapsed time 82.64 seconds, training accuracy 92.000%\n",
      "step 400, elapsed time 106.95 seconds, training accuracy 90.000%\n",
      "step 500, elapsed time 131.32 seconds, training accuracy 92.000%\n",
      "step 600, elapsed time 155.65 seconds, training accuracy 92.000%\n",
      "step 700, elapsed time 180.10 seconds, training accuracy 92.000%\n",
      "step 800, elapsed time 204.42 seconds, training accuracy 96.000%\n",
      "step 900, elapsed time 228.56 seconds, training accuracy 98.000%\n"
     ]
    }
   ],
   "source": [
    "for i in range(num_steps):\n",
    "    batch = mnist.train.next_batch(50)\n",
    "    optimizer.run(feed_dict={x: batch[0], y: batch[1], keep_probability: 0.5})\n",
    "    \n",
    "    if i%display_every == 0:\n",
    "        train_accuracy = accuracy.eval(feed_dict={\n",
    "            x:batch[0], y: batch[1], keep_probability: 1.0})\n",
    "        end_time = time.time()\n",
    "        print(\"step {0}, elapsed time {1:.2f} seconds, training accuracy {2:.3f}%\".format(i, end_time-start_time, train_accuracy*100.0))\n",
    "  \n",
    "end_time = time.time()"
   ]
  },
  {
   "cell_type": "code",
   "execution_count": 38,
   "metadata": {},
   "outputs": [
    {
     "name": "stdout",
     "output_type": "stream",
     "text": [
      "Total training time for 1000 batches: 252.59 seconds\n",
      "Test accuracy 96.340%\n"
     ]
    }
   ],
   "source": [
    "print(\"Total training time for {0} batches: {1:.2f} seconds\".format(i+1, end_time-start_time))\n",
    "\n",
    "#     Accuracy on test data\n",
    "print(\"Test accuracy {0:.3f}%\".format(accuracy.eval(feed_dict={\n",
    "    x: mnist.test.images, y: mnist.test.labels, keep_probability: 1.0})*100.0))\n",
    "\n",
    "sess.close()"
   ]
  },
  {
   "cell_type": "code",
   "execution_count": null,
   "metadata": {},
   "outputs": [],
   "source": []
  }
 ],
 "metadata": {
  "kernelspec": {
   "display_name": "Python 3",
   "language": "python",
   "name": "python3"
  },
  "language_info": {
   "codemirror_mode": {
    "name": "ipython",
    "version": 3
   },
   "file_extension": ".py",
   "mimetype": "text/x-python",
   "name": "python",
   "nbconvert_exporter": "python",
   "pygments_lexer": "ipython3",
   "version": "3.6.4"
  }
 },
 "nbformat": 4,
 "nbformat_minor": 2
}
